{
 "cells": [
  {
   "cell_type": "code",
   "execution_count": 1,
   "metadata": {},
   "outputs": [],
   "source": [
    "import os\n",
    "import asyncio\n",
    "from dotenv import load_dotenv\n",
    "from metaapi_cloud_sdk import MetaApi\n",
    "from datetime import datetime, timedelta\n",
    "\n",
    "load_dotenv()\n",
    "\n",
    "token = os.getenv(\"META_API_TOKEN\")\n",
    "login = os.getenv(\"MT_LOGIN\")\n",
    "password = os.getenv(\"MT_PASSWORD\")\n",
    "server_name = os.getenv(\"MT_SERVER\")\n"
   ]
  },
  {
   "cell_type": "code",
   "execution_count": 2,
   "metadata": {},
   "outputs": [],
   "source": [
    "api = MetaApi(token)"
   ]
  },
  {
   "cell_type": "code",
   "execution_count": 6,
   "metadata": {},
   "outputs": [],
   "source": [
    "accounts = await api.metatrader_account_api.get_accounts()"
   ]
  },
  {
   "cell_type": "code",
   "execution_count": 13,
   "metadata": {},
   "outputs": [],
   "source": [
    "account = accounts[0]"
   ]
  },
  {
   "cell_type": "code",
   "execution_count": 14,
   "metadata": {},
   "outputs": [
    {
     "data": {
      "text/plain": [
       "'DISCONNECTED'"
      ]
     },
     "execution_count": 14,
     "metadata": {},
     "output_type": "execute_result"
    }
   ],
   "source": [
    "account.connection_status"
   ]
  },
  {
   "cell_type": "code",
   "execution_count": 15,
   "metadata": {},
   "outputs": [],
   "source": [
    "await account.deploy()"
   ]
  },
  {
   "cell_type": "code",
   "execution_count": 18,
   "metadata": {},
   "outputs": [
    {
     "data": {
      "text/plain": [
       "'CONNECTED'"
      ]
     },
     "execution_count": 18,
     "metadata": {},
     "output_type": "execute_result"
    }
   ],
   "source": [
    "account.connection_status"
   ]
  },
  {
   "cell_type": "code",
   "execution_count": 17,
   "metadata": {},
   "outputs": [],
   "source": [
    "await account.wait_connected()"
   ]
  },
  {
   "cell_type": "code",
   "execution_count": 19,
   "metadata": {},
   "outputs": [],
   "source": [
    "connection = account.get_rpc_connection()"
   ]
  },
  {
   "cell_type": "code",
   "execution_count": 20,
   "metadata": {},
   "outputs": [],
   "source": [
    "await connection.connect()"
   ]
  },
  {
   "cell_type": "code",
   "execution_count": 22,
   "metadata": {},
   "outputs": [],
   "source": [
    "async def meta_api_synchronization():\n",
    "    api = MetaApi(token)\n",
    "    try:\n",
    "        # Add test MetaTrader account\n",
    "        accounts = await api.metatrader_account_api.get_accounts()\n",
    "        account = None\n",
    "        for item in accounts:\n",
    "            if item.login == login and item.type.startswith('cloud'):\n",
    "                account = item\n",
    "                break\n",
    "        if not account:\n",
    "            print('Adding MT5 account to MetaApi')\n",
    "            account = await api.metatrader_account_api.create_account({\n",
    "                'name': 'Test account',\n",
    "                'type': 'cloud',\n",
    "                'login': login,\n",
    "                'password': password,\n",
    "                'server': server_name,\n",
    "                'platform': 'mt5',\n",
    "                'application': 'MetaApi',\n",
    "                'magic': 1000\n",
    "            })\n",
    "        else:\n",
    "            print('MT5 account already added to MetaApi')\n",
    "\n",
    "        #  wait until account is deployed and connected to broker\n",
    "        if account.connection_status == \"DISCONNECTED\":\n",
    "            print('Deploying account')\n",
    "            await account.deploy()\n",
    "        \n",
    "        print('Waiting for API server to connect to broker (may take couple of minutes)')\n",
    "        await account.wait_connected()\n",
    "\n",
    "        # connect to MetaApi API\n",
    "        connection = account.get_rpc_connection()\n",
    "        await connection.connect()\n",
    "\n",
    "        # wait until terminal state synchronized to the local state\n",
    "        print('Waiting for SDK to synchronize to terminal state (may take some time depending on your history size)')\n",
    "        await connection.wait_synchronized()\n",
    "\n",
    "        # invoke RPC API (replace ticket numbers with actual ticket numbers which exist in your MT account)\n",
    "        print('Testing MetaAPI RPC API')\n",
    "        print('account information:', await connection.get_account_information())\n",
    "\n",
    "    except Exception as err:\n",
    "        # process errors\n",
    "        if hasattr(err, 'details'):\n",
    "            # returned if the server file for the specified server name has not been found\n",
    "            # recommended to check the server name or create the account using a provisioning profile\n",
    "            if err.details == 'E_SRV_NOT_FOUND':\n",
    "                print(err)\n",
    "            # returned if the server has failed to connect to the broker using your credentials\n",
    "            # recommended to check your login and password\n",
    "            elif err.details == 'E_AUTH':\n",
    "                print(err)\n",
    "            # returned if the server has failed to detect the broker settings\n",
    "            # recommended to try again later or create the account using a provisioning profile\n",
    "            elif err.details == 'E_SERVER_TIMEZONE':\n",
    "                print(err)\n",
    "        print(api.format_error(err))\n",
    "    exit()"
   ]
  },
  {
   "cell_type": "code",
   "execution_count": 24,
   "metadata": {},
   "outputs": [
    {
     "data": {
      "text/plain": [
       "<coroutine object meta_api_synchronization at 0x0000020434713CD0>"
      ]
     },
     "execution_count": 24,
     "metadata": {},
     "output_type": "execute_result"
    }
   ],
   "source": [
    "meta_api_synchronization()"
   ]
  },
  {
   "cell_type": "code",
   "execution_count": null,
   "metadata": {},
   "outputs": [],
   "source": []
  }
 ],
 "metadata": {
  "kernelspec": {
   "display_name": ".venv",
   "language": "python",
   "name": "python3"
  },
  "language_info": {
   "codemirror_mode": {
    "name": "ipython",
    "version": 3
   },
   "file_extension": ".py",
   "mimetype": "text/x-python",
   "name": "python",
   "nbconvert_exporter": "python",
   "pygments_lexer": "ipython3",
   "version": "3.11.4"
  },
  "orig_nbformat": 4
 },
 "nbformat": 4,
 "nbformat_minor": 2
}
